{
 "cells": [
  {
   "cell_type": "markdown",
   "metadata": {},
   "source": [
    "# Notebook to explore lat/long position of wells & find nearest neighbors\n",
    "### and potentially functions to make a dataset of nearest neighbors within certain limits for each well\n",
    "### and potentially functions to make a dataset of tops and other characteristics for neighboring wells."
   ]
  },
  {
   "cell_type": "code",
   "execution_count": 1,
   "metadata": {},
   "outputs": [
    {
     "data": {
      "text/plain": [
       "'0.3.0'"
      ]
     },
     "execution_count": 1,
     "metadata": {},
     "output_type": "execute_result"
    }
   ],
   "source": [
    "import pandas as pd\n",
    "import numpy as np\n",
    "import itertools\n",
    "import matplotlib.pyplot as plt\n",
    "%matplotlib inline\n",
    "import welly\n",
    "from welly import Well\n",
    "import lasio\n",
    "import glob\n",
    "from sklearn import neighbors\n",
    "import pickle\n",
    "welly.__version__"
   ]
  },
  {
   "cell_type": "code",
   "execution_count": 2,
   "metadata": {},
   "outputs": [
    {
     "name": "stdout",
     "output_type": "stream",
     "text": [
      "97.5 µs ± 1.3 µs per loop (mean ± std. dev. of 7 runs, 10000 loops each)\n"
     ]
    }
   ],
   "source": [
    "%%timeit\n",
    "import os\n",
    "env = %env"
   ]
  },
  {
   "cell_type": "code",
   "execution_count": 3,
   "metadata": {
    "collapsed": true
   },
   "outputs": [],
   "source": [
    "pd.set_option('display.max_rows', 2000)"
   ]
  },
  {
   "cell_type": "code",
   "execution_count": 7,
   "metadata": {},
   "outputs": [
    {
     "data": {
      "text/html": [
       "<div>\n",
       "<table border=\"1\" class=\"dataframe\">\n",
       "  <thead>\n",
       "    <tr style=\"text-align: right;\">\n",
       "      <th></th>\n",
       "      <th>SitID</th>\n",
       "      <th>UWI (AGS)_x</th>\n",
       "      <th>UWI_x</th>\n",
       "      <th>HorID_x</th>\n",
       "      <th>Pick_x</th>\n",
       "      <th>Quality_x</th>\n",
       "      <th>UWI (AGS)_y</th>\n",
       "      <th>UWI_y</th>\n",
       "      <th>HorID_y</th>\n",
       "      <th>Pick_y</th>\n",
       "      <th>Quality_y</th>\n",
       "      <th>lat</th>\n",
       "      <th>lng</th>\n",
       "      <th>UWI (AGS)</th>\n",
       "      <th>UWI</th>\n",
       "      <th>HorID</th>\n",
       "      <th>Pick</th>\n",
       "      <th>Quality</th>\n",
       "    </tr>\n",
       "  </thead>\n",
       "  <tbody>\n",
       "    <tr>\n",
       "      <th>0</th>\n",
       "      <td>102496</td>\n",
       "      <td>0674010812000</td>\n",
       "      <td>00/12-08-067-01W4/0</td>\n",
       "      <td>14000</td>\n",
       "      <td>561</td>\n",
       "      <td>1</td>\n",
       "      <td>0674010812000</td>\n",
       "      <td>00/12-08-067-01W4/0</td>\n",
       "      <td>13000</td>\n",
       "      <td>475</td>\n",
       "      <td>3</td>\n",
       "      <td>54.785907</td>\n",
       "      <td>-110.129320</td>\n",
       "      <td>0674010812000</td>\n",
       "      <td>00/12-08-067-01W4/0</td>\n",
       "      <td>13000</td>\n",
       "      <td>475</td>\n",
       "      <td>3</td>\n",
       "    </tr>\n",
       "    <tr>\n",
       "      <th>1</th>\n",
       "      <td>102497</td>\n",
       "      <td>0674020807000</td>\n",
       "      <td>00/07-08-067-02W4/0</td>\n",
       "      <td>14000</td>\n",
       "      <td>604.5</td>\n",
       "      <td>1</td>\n",
       "      <td>0674020807000</td>\n",
       "      <td>00/07-08-067-02W4/0</td>\n",
       "      <td>13000</td>\n",
       "      <td>515</td>\n",
       "      <td>3</td>\n",
       "      <td>54.782284</td>\n",
       "      <td>-110.269446</td>\n",
       "      <td>0674020807000</td>\n",
       "      <td>00/07-08-067-02W4/0</td>\n",
       "      <td>13000</td>\n",
       "      <td>515</td>\n",
       "      <td>3</td>\n",
       "    </tr>\n",
       "    <tr>\n",
       "      <th>2</th>\n",
       "      <td>102498</td>\n",
       "      <td>0674021109000</td>\n",
       "      <td>00/09-11-067-02W4/0</td>\n",
       "      <td>14000</td>\n",
       "      <td>564</td>\n",
       "      <td>1</td>\n",
       "      <td>0674021109000</td>\n",
       "      <td>00/09-11-067-02W4/0</td>\n",
       "      <td>13000</td>\n",
       "      <td>480</td>\n",
       "      <td>3</td>\n",
       "      <td>54.785892</td>\n",
       "      <td>-110.186851</td>\n",
       "      <td>0674021109000</td>\n",
       "      <td>00/09-11-067-02W4/0</td>\n",
       "      <td>13000</td>\n",
       "      <td>480</td>\n",
       "      <td>3</td>\n",
       "    </tr>\n",
       "    <tr>\n",
       "      <th>3</th>\n",
       "      <td>102500</td>\n",
       "      <td>0674022910000</td>\n",
       "      <td>00/10-29-067-02W4/0</td>\n",
       "      <td>14000</td>\n",
       "      <td>636.5</td>\n",
       "      <td>1</td>\n",
       "      <td>0674022910000</td>\n",
       "      <td>00/10-29-067-02W4/0</td>\n",
       "      <td>13000</td>\n",
       "      <td>549</td>\n",
       "      <td>3</td>\n",
       "      <td>54.829624</td>\n",
       "      <td>-110.269422</td>\n",
       "      <td>0674022910000</td>\n",
       "      <td>00/10-29-067-02W4/0</td>\n",
       "      <td>13000</td>\n",
       "      <td>549</td>\n",
       "      <td>3</td>\n",
       "    </tr>\n",
       "    <tr>\n",
       "      <th>4</th>\n",
       "      <td>102501</td>\n",
       "      <td>0674023406000</td>\n",
       "      <td>00/06-34-067-02W4/0</td>\n",
       "      <td>14000</td>\n",
       "      <td>613</td>\n",
       "      <td>1</td>\n",
       "      <td>0674023406000</td>\n",
       "      <td>00/06-34-067-02W4/0</td>\n",
       "      <td>13000</td>\n",
       "      <td>529</td>\n",
       "      <td>2</td>\n",
       "      <td>54.840471</td>\n",
       "      <td>-110.224832</td>\n",
       "      <td>0674023406000</td>\n",
       "      <td>00/06-34-067-02W4/0</td>\n",
       "      <td>13000</td>\n",
       "      <td>529</td>\n",
       "      <td>2</td>\n",
       "    </tr>\n",
       "  </tbody>\n",
       "</table>\n",
       "</div>"
      ],
      "text/plain": [
       "    SitID    UWI (AGS)_x                UWI_x  HorID_x Pick_x  Quality_x  \\\n",
       "0  102496  0674010812000  00/12-08-067-01W4/0    14000    561          1   \n",
       "1  102497  0674020807000  00/07-08-067-02W4/0    14000  604.5          1   \n",
       "2  102498  0674021109000  00/09-11-067-02W4/0    14000    564          1   \n",
       "3  102500  0674022910000  00/10-29-067-02W4/0    14000  636.5          1   \n",
       "4  102501  0674023406000  00/06-34-067-02W4/0    14000    613          1   \n",
       "\n",
       "     UWI (AGS)_y                UWI_y  HorID_y Pick_y  Quality_y        lat  \\\n",
       "0  0674010812000  00/12-08-067-01W4/0    13000    475          3  54.785907   \n",
       "1  0674020807000  00/07-08-067-02W4/0    13000    515          3  54.782284   \n",
       "2  0674021109000  00/09-11-067-02W4/0    13000    480          3  54.785892   \n",
       "3  0674022910000  00/10-29-067-02W4/0    13000    549          3  54.829624   \n",
       "4  0674023406000  00/06-34-067-02W4/0    13000    529          2  54.840471   \n",
       "\n",
       "          lng      UWI (AGS)                  UWI  HorID Pick  Quality  \n",
       "0 -110.129320  0674010812000  00/12-08-067-01W4/0  13000  475        3  \n",
       "1 -110.269446  0674020807000  00/07-08-067-02W4/0  13000  515        3  \n",
       "2 -110.186851  0674021109000  00/09-11-067-02W4/0  13000  480        3  \n",
       "3 -110.269422  0674022910000  00/10-29-067-02W4/0  13000  549        3  \n",
       "4 -110.224832  0674023406000  00/06-34-067-02W4/0  13000  529        2  "
      ]
     },
     "execution_count": 7,
     "metadata": {},
     "output_type": "execute_result"
    }
   ],
   "source": [
    "picks_dic = pd.read_csv('../../SPE_006_originalData/OilSandsDB/PICKS_DIC.TXT',delimiter='\\t')\n",
    "picks = pd.read_csv('../../SPE_006_originalData/OilSandsDB/PICKS.TXT',delimiter='\\t')\n",
    "wells = pd.read_csv('../../SPE_006_originalData/OilSandsDB/WELLS.TXT',delimiter='\\t')\n",
    "gis = pd.read_csv('../../well_lat_lng.csv')\n",
    "picks_new=picks[picks['HorID']==13000]\n",
    "picks_paleoz=picks[picks['HorID']==14000]\n",
    "df_new = pd.merge(wells, picks_new, on='SitID')\n",
    "df_paleoz = pd.merge(wells, picks_paleoz, on='SitID')\n",
    "#### NOTE: This now includes the GIS or well_lat_lng dataset too!\n",
    "df_gis = pd.merge(df_paleoz, gis, on='SitID')\n",
    "df_new=pd.merge(df_gis, df_new, on='SitID')\n",
    "df_new.head()"
   ]
  },
  {
   "cell_type": "markdown",
   "metadata": {},
   "source": [
    "## Possible Things to Do with Lat / Long"
   ]
  },
  {
   "cell_type": "markdown",
   "metadata": {},
   "source": [
    "### Features\n",
    "1. Find average pick depth of N neighbor wells within a certain maximum distance\n",
    "2. Return an array of pick depths at N neighbor wells within a certain maximum distance.\n",
    "3. Return the average depth above or below another known pickin N nearest neighbor wells\n",
    "3. Return an array of the depths above or below another known pickin N nearest neighbor wells\n",
    "4. -\n",
    "5. Return the amount of range in # 2\n",
    "6. -\n",
    "7. Return the amount of range in # 4\n",
    "8. Return if a minimum number of wells are within a certain distance\n",
    "9. Return the normalized hamming distance between a window around the pick in N nearst wells and window around a point in the well in question\n",
    "10. Return something about the amount of variance or max/min gr or resititivity within window in question and around pick in neighboring well(s).\n",
    "\n",
    "###  Mapping\n",
    "1. Show error on map\n",
    "2. Show distribution of a feature on a map.\n",
    "3. Identify where jumps in pick depth occur.\n",
    "4. Identify where areas of greater variance in depth occur.\n",
    "5. Identify where different unsupervized groupings occur.\n"
   ]
  },
  {
   "cell_type": "code",
   "execution_count": 8,
   "metadata": {
    "collapsed": true
   },
   "outputs": [],
   "source": [
    "#### 1. Find average pick depth of N neighbor wells within a certain maximum distance\n",
    "#### takes in array or pandas df? returns dataframe?\n",
    "def avgPickDepthForKneighborsWcertainDist(array,k_neighbors,max_distance):\n",
    "    return avg_depth\n",
    "    "
   ]
  },
  {
   "cell_type": "code",
   "execution_count": 9,
   "metadata": {
    "collapsed": true
   },
   "outputs": [],
   "source": [
    "#### 2. Return an array of pick depths at N neighbor wells within a certain maximum distance.\n",
    "#### takes in array or pandas df? returns dataframe?\n",
    "def arrayOfPickDepthForKneighborsWcertainDist(array,k_neighbors,max_distance):\n",
    "    return array_of_depths\n",
    "    "
   ]
  },
  {
   "cell_type": "code",
   "execution_count": 10,
   "metadata": {
    "collapsed": true
   },
   "outputs": [],
   "source": [
    "#### 3. Return the average depth above or below another known pickin N nearest neighbor wells\n",
    "#### takes in array or pandas df? returns dataframe?\n",
    "def avgDepthAbvOrBelowKneighborsWcertainDist(array,k_neighbors,max_distance,aboveOrbelow,pickA,pickB):\n",
    "    return avg_of_depthsAbvBelow"
   ]
  },
  {
   "cell_type": "code",
   "execution_count": 11,
   "metadata": {
    "collapsed": true
   },
   "outputs": [],
   "source": [
    "#### 4. Return the average depth above or below another known pickin N nearest neighbor wells\n",
    "#### takes in array or pandas df? returns dataframe?\n",
    "def arrayDepthAbvOrBelowKneighborsWcertainDist(array,k_neighbors,max_distance,aboveOrbelow,pickA,pickB):\n",
    "    return array_of_depthsAbvBelow"
   ]
  },
  {
   "cell_type": "code",
   "execution_count": null,
   "metadata": {
    "collapsed": true
   },
   "outputs": [],
   "source": []
  },
  {
   "cell_type": "code",
   "execution_count": null,
   "metadata": {
    "collapsed": true
   },
   "outputs": [],
   "source": []
  },
  {
   "cell_type": "code",
   "execution_count": null,
   "metadata": {
    "collapsed": true
   },
   "outputs": [],
   "source": []
  },
  {
   "cell_type": "code",
   "execution_count": null,
   "metadata": {
    "collapsed": true
   },
   "outputs": [],
   "source": []
  },
  {
   "cell_type": "code",
   "execution_count": null,
   "metadata": {
    "collapsed": true
   },
   "outputs": [],
   "source": []
  },
  {
   "cell_type": "code",
   "execution_count": null,
   "metadata": {
    "collapsed": true
   },
   "outputs": [],
   "source": []
  },
  {
   "cell_type": "code",
   "execution_count": null,
   "metadata": {
    "collapsed": true
   },
   "outputs": [],
   "source": []
  },
  {
   "cell_type": "code",
   "execution_count": null,
   "metadata": {
    "collapsed": true
   },
   "outputs": [],
   "source": []
  },
  {
   "cell_type": "code",
   "execution_count": null,
   "metadata": {
    "collapsed": true
   },
   "outputs": [],
   "source": []
  },
  {
   "cell_type": "code",
   "execution_count": null,
   "metadata": {
    "collapsed": true
   },
   "outputs": [],
   "source": []
  },
  {
   "cell_type": "code",
   "execution_count": null,
   "metadata": {
    "collapsed": true
   },
   "outputs": [],
   "source": []
  },
  {
   "cell_type": "code",
   "execution_count": null,
   "metadata": {
    "collapsed": true
   },
   "outputs": [],
   "source": []
  },
  {
   "cell_type": "code",
   "execution_count": null,
   "metadata": {
    "collapsed": true
   },
   "outputs": [],
   "source": []
  },
  {
   "cell_type": "code",
   "execution_count": null,
   "metadata": {
    "collapsed": true
   },
   "outputs": [],
   "source": []
  }
 ],
 "metadata": {
  "kernelspec": {
   "display_name": "Python 3",
   "language": "python",
   "name": "python3"
  },
  "language_info": {
   "codemirror_mode": {
    "name": "ipython",
    "version": 3
   },
   "file_extension": ".py",
   "mimetype": "text/x-python",
   "name": "python",
   "nbconvert_exporter": "python",
   "pygments_lexer": "ipython3",
   "version": "3.5.2"
  }
 },
 "nbformat": 4,
 "nbformat_minor": 2
}
